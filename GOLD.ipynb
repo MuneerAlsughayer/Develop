{
 "cells": [
  {
   "cell_type": "code",
   "execution_count": 4,
   "id": "f77b8715-ff76-4be2-906d-cdaf5d7e9a08",
   "metadata": {},
   "outputs": [
    {
     "name": "stdout",
     "output_type": "stream",
     "text": [
      "Gold (XAU): $3325.30/oz — updated a few seconds ago at 2025-05-09 22:21:43+00:00\n"
     ]
    }
   ],
   "source": [
    "import requests\n",
    "from datetime import datetime\n",
    "from typing import Optional, Dict\n",
    "\n",
    "URL = \"https://api.gold-api.com/price/XAU\"\n",
    "\n",
    "def fetch_spot_price() -> Optional[Dict]:\n",
    "    \"\"\"\n",
    "    Fetch live gold spot price from Gold-API.com's open JSON endpoint.\n",
    "    Parses the fields: name, price, symbol, updatedAt, updatedAtReadable.\n",
    "    Returns a dict or None on error.\n",
    "    \"\"\"\n",
    "    try:\n",
    "        resp = requests.get(URL, timeout=5)\n",
    "        resp.raise_for_status()\n",
    "        data = resp.json()\n",
    "        return {\n",
    "            \"name\": data.get(\"name\"),                        # e.g. \"Gold\"\n",
    "            \"symbol\": data.get(\"symbol\"),                    # e.g. \"XAU\"\n",
    "            \"price_usd_per_oz\": float(data.get(\"price\", 0)), # e.g. 3325.300049\n",
    "            \"updated_at\": datetime.fromisoformat(\n",
    "                data.get(\"updatedAt\").replace(\"Z\", \"+00:00\")\n",
    "            ),                                               # e.g. 2025-05-09T22:16:43Z\n",
    "            \"updated_readable\": data.get(\"updatedAtReadable\")# e.g. \"a few seconds ago\"\n",
    "        }\n",
    "    except requests.RequestException as e:\n",
    "        print(f\"Error fetching gold price: {e}\")\n",
    "        return None\n",
    "\n",
    "# Example usage\n",
    "if __name__ == \"__main__\":\n",
    "    spot = fetch_spot_price()\n",
    "    if spot:\n",
    "        print(\n",
    "            f\"{spot['name']} ({spot['symbol']}): \"\n",
    "            f\"${spot['price_usd_per_oz']:.2f}/oz — \"\n",
    "            f\"updated {spot['updated_readable']} at {spot['updated_at']}\"\n",
    "        )\n"
   ]
  }
 ],
 "metadata": {
  "kernelspec": {
   "display_name": "Python 3 (ipykernel)",
   "language": "python",
   "name": "python3"
  },
  "language_info": {
   "codemirror_mode": {
    "name": "ipython",
    "version": 3
   },
   "file_extension": ".py",
   "mimetype": "text/x-python",
   "name": "python",
   "nbconvert_exporter": "python",
   "pygments_lexer": "ipython3",
   "version": "3.9.21"
  }
 },
 "nbformat": 4,
 "nbformat_minor": 5
}
