{
 "cells": [
  {
   "cell_type": "code",
   "execution_count": 1,
   "id": "388a4a28-bcfd-43ad-b195-ef34432528f1",
   "metadata": {},
   "outputs": [
    {
     "name": "stdout",
     "output_type": "stream",
     "text": [
      "hello world!iteration 0\n",
      "1\n",
      "iteration 1\n",
      "2\n",
      "iteration 2\n",
      "6\n",
      "iteration 3\n",
      "39\n",
      "iteration 4\n",
      "1525\n"
     ]
    }
   ],
   "source": [
    "print (\"hello world!\", end=\"\")\n",
    "x=1\n",
    "for i in [0,1,2,3,4]:\n",
    "    print ('iteration',i)\n",
    "    x=x+i\n",
    "    print(x)\n",
    "    x=x*x\n"
   ]
  },
  {
   "cell_type": "code",
   "execution_count": null,
   "id": "05cc9bde-b1f7-47b8-82e2-1d93f5bfd8ec",
   "metadata": {},
   "outputs": [],
   "source": []
  },
  {
   "cell_type": "code",
   "execution_count": null,
   "id": "a5425509-b1ed-43a6-9936-be4fcddf499d",
   "metadata": {},
   "outputs": [],
   "source": []
  }
 ],
 "metadata": {
  "kernelspec": {
   "display_name": "Python 3 (ipykernel)",
   "language": "python",
   "name": "python3"
  },
  "language_info": {
   "codemirror_mode": {
    "name": "ipython",
    "version": 3
   },
   "file_extension": ".py",
   "mimetype": "text/x-python",
   "name": "python",
   "nbconvert_exporter": "python",
   "pygments_lexer": "ipython3",
   "version": "3.9.21"
  }
 },
 "nbformat": 4,
 "nbformat_minor": 5
}
